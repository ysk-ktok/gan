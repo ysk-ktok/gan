{
 "cells": [
  {
   "cell_type": "markdown",
   "metadata": {},
   "source": [
    "# GAN実装"
   ]
  },
  {
   "cell_type": "markdown",
   "metadata": {},
   "source": [
    "### import"
   ]
  },
  {
   "cell_type": "code",
   "execution_count": 13,
   "metadata": {},
   "outputs": [],
   "source": [
    "import matplotlib.pyplot as plt\n",
    "import numpy as np\n",
    "\n",
    "from tensorflow.keras.datasets import mnist\n",
    "from tensorflow.keras.layers import Dense, Flatten, Reshape\n",
    "from tensorflow.keras.layers import LeakyReLU\n",
    "from tensorflow.keras.models import Sequential\n",
    "from tensorflow.keras.optimizers import Adam"
   ]
  },
  {
   "cell_type": "markdown",
   "metadata": {},
   "source": [
    "モデルの次元入力"
   ]
  },
  {
   "cell_type": "code",
   "execution_count": 14,
   "metadata": {},
   "outputs": [],
   "source": [
    "img_rows = 28\n",
    "img_cols = 28\n",
    "channel = 1\n",
    "\n",
    "#入力画像の次元\n",
    "img_shape = (img_rows, img_cols, channel)\n",
    "\n",
    "#生成機の入力として使われるノイズベクトルの次元\n",
    "z_dim = 100\n"
   ]
  },
  {
   "cell_type": "markdown",
   "metadata": {},
   "source": [
    "### 生成器の実装"
   ]
  },
  {
   "cell_type": "code",
   "execution_count": 15,
   "metadata": {},
   "outputs": [],
   "source": [
    "def build_gengerator(img_shape, z_dim):\n",
    "    \n",
    "    model = Sequential()\n",
    "    \n",
    "    #全結合層\n",
    "    model.add(Dense(128, input_dim = z_dim))\n",
    "    \n",
    "    #活性化関数（Leaky_ReLU）\n",
    "    model.add(LeakyReLU(alpha = 0.01))\n",
    "    \n",
    "    #tanhを使った出力層\n",
    "    model.add(Dense(28*28*1, activation = 'tanh'))\n",
    "    \n",
    "    #生成機の形が画像サイズになるようにreshape\n",
    "    model.add(Reshape(img_shape))\n",
    "    \n",
    "    return model"
   ]
  },
  {
   "cell_type": "code",
   "execution_count": null,
   "metadata": {},
   "outputs": [],
   "source": []
  },
  {
   "cell_type": "markdown",
   "metadata": {},
   "source": [
    "### 識別器"
   ]
  },
  {
   "cell_type": "code",
   "execution_count": 16,
   "metadata": {},
   "outputs": [],
   "source": [
    "def build_discriminator(img_shape):\n",
    "    \n",
    "    model = Sequential()\n",
    "    \n",
    "    #入力画像を1列に（28*28）\n",
    "    model.add(Flatten(input_shape = img_shape))\n",
    "    \n",
    "    #全結合層\n",
    "    model.add(Dense(128))\n",
    "    \n",
    "    #Leaky_ReLUによる活性化\n",
    "    model.add(LeakyReLU(alpha = 0.01))\n",
    "    \n",
    "    #sigmoid関数を通して出力\n",
    "    model.add(Dense(1, activation = 'sigmoid'))\n",
    "    \n",
    "    return model"
   ]
  },
  {
   "cell_type": "code",
   "execution_count": null,
   "metadata": {},
   "outputs": [],
   "source": []
  },
  {
   "cell_type": "markdown",
   "metadata": {},
   "source": [
    "### モデルの作成"
   ]
  },
  {
   "cell_type": "code",
   "execution_count": 17,
   "metadata": {},
   "outputs": [],
   "source": [
    "def build_gan(generator, discriminator):\n",
    "    \n",
    "    model = Sequential()\n",
    "    \n",
    "    #生成器と識別器の結合　\n",
    "    model.add(generator)\n",
    "    model.add(discriminator)\n",
    "    \n",
    "    return model\n",
    "\n",
    "#識別器の構築とコンパイル\n",
    "discriminator = build_discriminator(img_shape)\n",
    "discriminator.compile(loss = 'binary_crossentropy'\n",
    "                    , optimizer = Adam()\n",
    "                     , metrics = ['accuracy'])\n",
    "\n",
    "#生成器の構築\n",
    "generator = build_gengerator(img_shape, z_dim)\n",
    "\n",
    "#生成器の構築中は識別器のパラメータを固定\n",
    "discriminator.trainable = False\n",
    "\n",
    "#生成器の訓練中のため識別器は固定しGANモデルの構築とコンパイルを行う\n",
    "gan = build_gan(generator, discriminator)\n",
    "gan.compile(loss = 'binary_crossentropy', optimizer = Adam())"
   ]
  },
  {
   "cell_type": "code",
   "execution_count": null,
   "metadata": {},
   "outputs": [],
   "source": [
    "\n"
   ]
  },
  {
   "cell_type": "markdown",
   "metadata": {},
   "source": [
    "### 訓練"
   ]
  },
  {
   "cell_type": "code",
   "execution_count": 18,
   "metadata": {},
   "outputs": [],
   "source": [
    "losses = []\n",
    "accuracies = []\n",
    "iterati0n_checkpoint = []\n",
    "\n",
    "def train(iterations, batch_size, sample_interval):\n",
    "    \n",
    "    #MNISTのデータセットのロード\n",
    "    (X_train, _), (_, _) = mnist.load_data()\n",
    "    \n",
    "    #[0, 255]の範囲のグレースケール画素値を[-1, 1]にスケーリング\n",
    "    X_train = X_train/127.5 - 1.0\n",
    "    X_train = np.expand_dims(X_train, axis = 3)\n",
    "    \n",
    "    #本物の画像ラベルは全て1とする\n",
    "    real = np.ones((batch_size, 1))\n",
    "    \n",
    "    #偽物のラベルは0とする\n",
    "    fake = np.zeros((batch_size, 1))\n",
    "    \n",
    "    for iteration in range(iterations):\n",
    "        \n",
    "        #--------------\n",
    "        #識別器の訓練\n",
    "        #--------------\n",
    "        \n",
    "        #本物の画像をランダムに取り出したバッチを作る\n",
    "        idx = np.random.randint(0, X_train.shape[0], batch_size)\n",
    "        imgs = X_train[idx]\n",
    "        \n",
    "        #偽の画像バッチを作成する\n",
    "        z = np.random.randint(0, 1, (batch_size, 100))\n",
    "        gen_imgs = generator.predict(z)\n",
    "        \n",
    "        #識別器の訓練\n",
    "        d_loss_real = discriminator.train_on_batch(imgs, real)\n",
    "        d_loss_fake = discriminator.train_on_batch(imgs, fake)\n",
    "        d_loss, accuracy = 0.5*np.add(d_loss_real, d_loss_fake)\n",
    "        \n",
    "        #--------------\n",
    "        #生成期の訓練\n",
    "        #--------------\n",
    "        \n",
    "        #偽の画像のバッチを作成する\n",
    "        z = np.random.normal(0, 1, (batch_size, 100))\n",
    "        gen_imgs = generator.predict(z)\n",
    "        \n",
    "        #生成器の訓練\n",
    "        g_loss = gan.train_on_batch(z, real)\n",
    "        \n",
    "        if (iteration+1)%sample_interval == 0:\n",
    "            \n",
    "            #訓練終了後に図示するために、損失と精度をセーブしておく\n",
    "            losses.append((d_loss, g_loss))\n",
    "            accuracies.append(100.0*accuracy)\n",
    "            iterati0n_checkpoint.append(iteration+1)\n",
    "            \n",
    "            #訓練の進捗を出力\n",
    "            print('%d [D loss: %f, acc.: %.2f%%] [G loss: $%f]'% (iteration+1, d_loss, 100.0*accuracy, g_loss))\n",
    "            \n",
    "            #生成されたサンプルを出力する\n",
    "            sample_images(generator)"
   ]
  },
  {
   "cell_type": "code",
   "execution_count": null,
   "metadata": {},
   "outputs": [],
   "source": []
  },
  {
   "cell_type": "markdown",
   "metadata": {},
   "source": [
    "### 生成された画像の表示"
   ]
  },
  {
   "cell_type": "code",
   "execution_count": 19,
   "metadata": {},
   "outputs": [],
   "source": [
    "def sample_images(generator, image_grid_rows = 4, image_grid_columns = 4):\n",
    "    \n",
    "    #ランダムノイズのサンプリング\n",
    "    z = np.random.normal(0, 1, (image_grid_rows * image_grid_columns, z_dim))\n",
    "    \n",
    "    #ランダムノイズを使って画像を生成する\n",
    "    gen_imgs = generator.predict(z)\n",
    "    \n",
    "    #画像の画素を[0, 1]の範囲に\n",
    "    gen_imgs = 0.5 * gen_imgs + 0.5\n",
    "    \n",
    "    #画像をグリッドに並べる\n",
    "    fix, axs = plt.subplots(image_grid_rows\n",
    "                         , image_grid_columns\n",
    "                         , figsize = (4, 4)\n",
    "                         , sharky = True\n",
    "                         , sharex = True)\n",
    "    \n",
    "    cnt = 0\n",
    "    for i in range(image_grid_rows):\n",
    "        for j in range(image_grid_columns):\n",
    "            #並べた画像を出力する\n",
    "            axs[i, j].imgshow(gen[cnt, :, :, 0], cmap = 'gray')\n",
    "            axs[i, j].axis('off')\n",
    "            cnt += 1"
   ]
  },
  {
   "cell_type": "code",
   "execution_count": null,
   "metadata": {},
   "outputs": [],
   "source": [
    " "
   ]
  },
  {
   "cell_type": "markdown",
   "metadata": {},
   "source": [
    "### モデルの実行"
   ]
  },
  {
   "cell_type": "code",
   "execution_count": 20,
   "metadata": {},
   "outputs": [
    {
     "ename": "TypeError",
     "evalue": "unsupported operand type(s) for %: 'int' and 'function'",
     "output_type": "error",
     "traceback": [
      "\u001b[0;31m---------------------------------------------------------------------------\u001b[0m",
      "\u001b[0;31mTypeError\u001b[0m                                 Traceback (most recent call last)",
      "\u001b[0;32m<ipython-input-20-767c4ba76cd2>\u001b[0m in \u001b[0;36m<module>\u001b[0;34m\u001b[0m\n\u001b[1;32m      5\u001b[0m \u001b[0;34m\u001b[0m\u001b[0m\n\u001b[1;32m      6\u001b[0m \u001b[0;31m#設定した反復回数だけGANの訓練を行う。}\u001b[0m\u001b[0;34m\u001b[0m\u001b[0;34m\u001b[0m\u001b[0;34m\u001b[0m\u001b[0m\n\u001b[0;32m----> 7\u001b[0;31m \u001b[0mtrain\u001b[0m\u001b[0;34m(\u001b[0m\u001b[0miterations\u001b[0m\u001b[0;34m,\u001b[0m \u001b[0mbatch_size\u001b[0m\u001b[0;34m,\u001b[0m \u001b[0msample_images\u001b[0m\u001b[0;34m)\u001b[0m\u001b[0;34m\u001b[0m\u001b[0;34m\u001b[0m\u001b[0m\n\u001b[0m",
      "\u001b[0;32m<ipython-input-18-4b5cfa59ab8f>\u001b[0m in \u001b[0;36mtrain\u001b[0;34m(iterations, batch_size, sample_interval)\u001b[0m\n\u001b[1;32m     48\u001b[0m         \u001b[0mg_loss\u001b[0m \u001b[0;34m=\u001b[0m \u001b[0mgan\u001b[0m\u001b[0;34m.\u001b[0m\u001b[0mtrain_on_batch\u001b[0m\u001b[0;34m(\u001b[0m\u001b[0mz\u001b[0m\u001b[0;34m,\u001b[0m \u001b[0mreal\u001b[0m\u001b[0;34m)\u001b[0m\u001b[0;34m\u001b[0m\u001b[0;34m\u001b[0m\u001b[0m\n\u001b[1;32m     49\u001b[0m \u001b[0;34m\u001b[0m\u001b[0m\n\u001b[0;32m---> 50\u001b[0;31m         \u001b[0;32mif\u001b[0m \u001b[0;34m(\u001b[0m\u001b[0miteration\u001b[0m\u001b[0;34m+\u001b[0m\u001b[0;36m1\u001b[0m\u001b[0;34m)\u001b[0m\u001b[0;34m%\u001b[0m\u001b[0msample_interval\u001b[0m \u001b[0;34m==\u001b[0m \u001b[0;36m0\u001b[0m\u001b[0;34m:\u001b[0m\u001b[0;34m\u001b[0m\u001b[0;34m\u001b[0m\u001b[0m\n\u001b[0m\u001b[1;32m     51\u001b[0m \u001b[0;34m\u001b[0m\u001b[0m\n\u001b[1;32m     52\u001b[0m             \u001b[0;31m#訓練終了後に図示するために、損失と精度をセーブしておく\u001b[0m\u001b[0;34m\u001b[0m\u001b[0;34m\u001b[0m\u001b[0;34m\u001b[0m\u001b[0m\n",
      "\u001b[0;31mTypeError\u001b[0m: unsupported operand type(s) for %: 'int' and 'function'"
     ]
    }
   ],
   "source": [
    "#ハイパーパラメータの設定\n",
    "iterations = 20000\n",
    "batch_size = 128\n",
    "sample_interval = 1000\n",
    "\n",
    "#設定した反復回数だけGANの訓練を行う。}\n",
    "train(iterations, batch_size, sample_images)"
   ]
  },
  {
   "cell_type": "markdown",
   "metadata": {},
   "source": [
    "- Versionが古いからなんとかする。"
   ]
  },
  {
   "cell_type": "markdown",
   "metadata": {},
   "source": [
    "WARNING:tensorflow:From /Users/yusuke/opt/anaconda3/envs/signate/lib/python3.6/site-packages/keras/backend/tensorflow_backend.py:422: The name tf.global_variables is deprecated. Please use tf.compat.v1.global_variables instead."
   ]
  },
  {
   "cell_type": "code",
   "execution_count": null,
   "metadata": {},
   "outputs": [],
   "source": [
    "tensorflow --version"
   ]
  },
  {
   "cell_type": "code",
   "execution_count": null,
   "metadata": {},
   "outputs": [],
   "source": [
    "np.random"
   ]
  },
  {
   "cell_type": "code",
   "execution_count": null,
   "metadata": {},
   "outputs": [],
   "source": []
  },
  {
   "cell_type": "code",
   "execution_count": null,
   "metadata": {},
   "outputs": [],
   "source": []
  }
 ],
 "metadata": {
  "kernelspec": {
   "display_name": "Python 3",
   "language": "python",
   "name": "python3"
  },
  "language_info": {
   "codemirror_mode": {
    "name": "ipython",
    "version": 3
   },
   "file_extension": ".py",
   "mimetype": "text/x-python",
   "name": "python",
   "nbconvert_exporter": "python",
   "pygments_lexer": "ipython3",
   "version": "3.6.13"
  }
 },
 "nbformat": 4,
 "nbformat_minor": 4
}
