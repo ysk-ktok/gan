{
 "cells": [
  {
   "cell_type": "markdown",
   "metadata": {},
   "source": [
    "- kerasとtensorflow.kerasを一緒に使ったときに出るエラー文"
   ]
  },
  {
   "cell_type": "markdown",
   "metadata": {},
   "source": [
    "The added layer must be an instance of class Layer. Found: <keras.layers.advanced_activations.LeakyReLU object at 0x7f972b2aa5f8>"
   ]
  },
  {
   "cell_type": "markdown",
   "metadata": {},
   "source": [
    "- 型が異なるもの同士を演算したときに出るエラー文"
   ]
  },
  {
   "cell_type": "markdown",
   "metadata": {},
   "source": [
    "unsupported operand type(s) for %: 'int' and 'function'"
   ]
  },
  {
   "cell_type": "code",
   "execution_count": null,
   "metadata": {},
   "outputs": [],
   "source": []
  }
 ],
 "metadata": {
  "kernelspec": {
   "display_name": "Python 3",
   "language": "python",
   "name": "python3"
  },
  "language_info": {
   "codemirror_mode": {
    "name": "ipython",
    "version": 3
   },
   "file_extension": ".py",
   "mimetype": "text/x-python",
   "name": "python",
   "nbconvert_exporter": "python",
   "pygments_lexer": "ipython3",
   "version": "3.6.13"
  }
 },
 "nbformat": 4,
 "nbformat_minor": 4
}
